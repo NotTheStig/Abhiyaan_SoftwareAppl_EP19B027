{
 "cells": [
  {
   "cell_type": "code",
   "execution_count": null,
   "metadata": {},
   "outputs": [],
   "source": [
    "#The following code runs veryyyyy slow. There is certainly room for improvement in both its efficiency and the detection method used.\n",
    "#The pothole detection is done using basic image processing and the underlying idea was one that struck my mind right after reading the question and so, it may be quite unorthodox/weird.\n",
    "\n",
    "import cv2\n",
    "import numpy as np\n",
    "\n",
    "def detectt(image): #pothole detecting function \n",
    "    gray = cv2.cvtColor(image,cv2.COLOR_BGR2GRAY)\n",
    "    ret, th1 = cv2.threshold(gray, 200, 255, cv2.THRESH_TOZERO)\n",
    "    ret, th2 = cv2.threshold(th1, 120, 255, cv2.THRESH_BINARY) #thresholds to clean up the image\n",
    "    edges = cv2.Canny(th2,50,150,apertureSize=3)\n",
    "    lines = cv2.HoughLinesP(edges, 1, np.pi/180, threshold=100,minLineLength=5, maxLineGap=10) #lane detection \n",
    "    maxx=0;minx=1279\n",
    "    maxline=[];minline=[];\n",
    "    for points in lines: #loop to find the outer most (bounding) lane lines\n",
    "        x1,y1,x2,y2=points[0]\n",
    "        if x2>maxx:\n",
    "            maxline=points[0];maxx=x2\n",
    "        if x1<minx:\n",
    "            minline=points[0];minx=x1\n",
    "    maxline[0]=maxline[0]-40;maxline[2]=maxline[2]-40;\n",
    "    minline[0]=minline[0]+40;minline[2]=minline[2]+40;\n",
    "    for i in range(1279): #double loop that makes all pixels outside the lane lines equal to zero\n",
    "        for j in range(593):\n",
    "            if (j-maxline[1] < ((maxline[3]-maxline[1])/(maxline[2]-maxline[0]))*(i-maxline[0])) or (j-minline[1] < ((minline[3]-minline[1])/(minline[2]-minline[0]))*(i-minline[0])):\n",
    "                edges[j][i]=0\n",
    "            if j>800:\n",
    "                edges[j][i]=0\n",
    "    M = cv2.moments(edges) #finds the geometric center of all remaiing pixels (that have not been removed by the prev loop)\n",
    "    cX = int(M[\"m10\"] / M[\"m00\"])\n",
    "    cY = int(M[\"m01\"] / M[\"m00\"])\n",
    "    cv2.rectangle(image, (cX+45, cY+45), (cX-45, cY-45), (255,0,0), 2)\n",
    "    cv2.imshow(\"Image\", image) #dyamically shows the image with a bounding box around the pothole\n",
    "\n",
    "\n",
    "cap = cv2.VideoCapture('bolt_test_pothole.mp4') #passes each frame of the video to the pothole detection function\n",
    "while(cap.isOpened()):\n",
    "    _, frame = cap.read()\n",
    "    detectt(frame)\n",
    "    if cv2.waitKey(1) & 0xFF == ord('q'):\n",
    "        break\n",
    "cap.release()\n",
    "cv2.destroyAllWindows()"
   ]
  },
  {
   "cell_type": "code",
   "execution_count": null,
   "metadata": {},
   "outputs": [],
   "source": []
  }
 ],
 "metadata": {
  "kernelspec": {
   "display_name": "Python 3",
   "language": "python",
   "name": "python3"
  },
  "language_info": {
   "codemirror_mode": {
    "name": "ipython",
    "version": 3
   },
   "file_extension": ".py",
   "mimetype": "text/x-python",
   "name": "python",
   "nbconvert_exporter": "python",
   "pygments_lexer": "ipython3",
   "version": "3.7.3"
  }
 },
 "nbformat": 4,
 "nbformat_minor": 2
}
